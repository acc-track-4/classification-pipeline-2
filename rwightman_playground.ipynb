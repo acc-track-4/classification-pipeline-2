{
 "cells": [
  {
   "cell_type": "code",
   "execution_count": 3,
   "metadata": {},
   "outputs": [],
   "source": [
    "import timm\n",
    "import torch\n",
    "from PIL import Image"
   ]
  },
  {
   "cell_type": "code",
   "execution_count": 17,
   "metadata": {},
   "outputs": [],
   "source": [
    "model = timm.create_model(\"efficientnet_b0\", num_classes=116)"
   ]
  },
  {
   "cell_type": "code",
   "execution_count": 18,
   "metadata": {},
   "outputs": [],
   "source": [
    "trained_model = torch.load(\"efficientnet_b0.pt\")"
   ]
  },
  {
   "cell_type": "code",
   "execution_count": 19,
   "metadata": {},
   "outputs": [
    {
     "data": {
      "text/plain": [
       "<All keys matched successfully>"
      ]
     },
     "execution_count": 19,
     "metadata": {},
     "output_type": "execute_result"
    }
   ],
   "source": [
    "model.load_state_dict(trained_model[\"model_state_dict\"])"
   ]
  },
  {
   "cell_type": "code",
   "execution_count": 40,
   "metadata": {},
   "outputs": [],
   "source": [
    "with open(\"labels.txt\") as f:\n",
    "    prod = []\n",
    "    for line in f.readlines():\n",
    "        prod.append(line)"
   ]
  },
  {
   "cell_type": "code",
   "execution_count": 43,
   "metadata": {},
   "outputs": [],
   "source": [
    "def infer(image_path,model):\n",
    "   img = Image.open(image_path)\n",
    "   mean = [0.485, 0.456, 0.406] \n",
    "   std = [0.229, 0.224, 0.225]\n",
    "   test_transforms = timm.data.create_transform(\n",
    "      input_size=224, mean=mean, std=std\n",
    "   )\n",
    "   img_normalized = test_transforms(img).float()\n",
    "   img_normalized = img_normalized.unsqueeze_(0)\n",
    "   img_normalized = img_normalized.to(\"cpu\")\n",
    "   with torch.no_grad():\n",
    "      model.eval()  \n",
    "      output =model(img_normalized)\n",
    "      index = output.data.cpu().numpy().argmax()\n",
    "      return prod[index].strip()\n"
   ]
  },
  {
   "cell_type": "code",
   "execution_count": 47,
   "metadata": {},
   "outputs": [
    {
     "data": {
      "text/plain": [
       "'Tide Pods,103'"
      ]
     },
     "execution_count": 47,
     "metadata": {},
     "output_type": "execute_result"
    }
   ],
   "source": [
    "infer(\"test3.jpg\",model)"
   ]
  },
  {
   "cell_type": "code",
   "execution_count": 39,
   "metadata": {},
   "outputs": [],
   "source": []
  },
  {
   "cell_type": "code",
   "execution_count": null,
   "metadata": {},
   "outputs": [],
   "source": []
  }
 ],
 "metadata": {
  "interpreter": {
   "hash": "aa884020ed65da342b2c717bde878a8b9bf503b8ca14673f10767b13c4c8aa94"
  },
  "kernelspec": {
   "display_name": "Python 3.8.12 ('timm-env')",
   "language": "python",
   "name": "python3"
  },
  "language_info": {
   "codemirror_mode": {
    "name": "ipython",
    "version": 3
   },
   "file_extension": ".py",
   "mimetype": "text/x-python",
   "name": "python",
   "nbconvert_exporter": "python",
   "pygments_lexer": "ipython3",
   "version": "3.8.12"
  },
  "orig_nbformat": 4
 },
 "nbformat": 4,
 "nbformat_minor": 2
}
